{
 "cells": [
  {
   "cell_type": "code",
   "execution_count": 1,
   "id": "52f566b0-a8fe-49f0-8bac-38b1334e09ca",
   "metadata": {
    "execution": {
     "iopub.execute_input": "2024-05-10T14:15:14.106485Z",
     "iopub.status.busy": "2024-05-10T14:15:14.106218Z",
     "iopub.status.idle": "2024-05-10T14:15:14.820498Z",
     "shell.execute_reply": "2024-05-10T14:15:14.820063Z",
     "shell.execute_reply.started": "2024-05-10T14:15:14.106470Z"
    }
   },
   "outputs": [],
   "source": [
    "import numpy as np\n",
    "import torch\n",
    "import pandas as pd"
   ]
  },
  {
   "cell_type": "code",
   "execution_count": 2,
   "id": "032b42fd-c37b-457a-a2bc-d1d51fd426c4",
   "metadata": {
    "execution": {
     "iopub.execute_input": "2024-05-10T14:15:14.821038Z",
     "iopub.status.busy": "2024-05-10T14:15:14.820878Z",
     "iopub.status.idle": "2024-05-10T14:15:14.843209Z",
     "shell.execute_reply": "2024-05-10T14:15:14.842748Z",
     "shell.execute_reply.started": "2024-05-10T14:15:14.821026Z"
    }
   },
   "outputs": [],
   "source": [
    "T=1000\n",
    "time = torch.arange(1,T+1,dtype=torch.float32)\n",
    "x_1 = torch.sin(0.01*time)+torch.normal(0,0.1,(T,))\n",
    "x_2 = torch.cos(0.01*time)+torch.normal(0,0.1,(T,))\n",
    "x_3 = torch.tanh(0.01*time)+torch.normal(0,0.1,(T,))"
   ]
  },
  {
   "cell_type": "code",
   "execution_count": 3,
   "id": "ee2f0c44-93c9-4054-a9ce-d46ceb549e84",
   "metadata": {
    "execution": {
     "iopub.execute_input": "2024-05-10T14:15:14.843853Z",
     "iopub.status.busy": "2024-05-10T14:15:14.843706Z",
     "iopub.status.idle": "2024-05-10T14:15:14.848063Z",
     "shell.execute_reply": "2024-05-10T14:15:14.847768Z",
     "shell.execute_reply.started": "2024-05-10T14:15:14.843842Z"
    }
   },
   "outputs": [
    {
     "data": {
      "text/plain": [
       "torch.Size([1000, 1])"
      ]
     },
     "execution_count": 3,
     "metadata": {},
     "output_type": "execute_result"
    }
   ],
   "source": [
    "x_1.view(-1,1).shape"
   ]
  },
  {
   "cell_type": "code",
   "execution_count": 4,
   "id": "1c4cb3da-0e89-4660-aacd-6babe18b9c9a",
   "metadata": {
    "execution": {
     "iopub.execute_input": "2024-05-10T14:15:14.863942Z",
     "iopub.status.busy": "2024-05-10T14:15:14.863727Z",
     "iopub.status.idle": "2024-05-10T14:15:14.866680Z",
     "shell.execute_reply": "2024-05-10T14:15:14.866329Z",
     "shell.execute_reply.started": "2024-05-10T14:15:14.863925Z"
    }
   },
   "outputs": [],
   "source": [
    "data = torch.cat((x_1.view(-1,1),x_2.view(-1,1),x_3.view(-1,1)),dim=1)"
   ]
  },
  {
   "cell_type": "code",
   "execution_count": 5,
   "id": "d0d46a7b-8291-400b-a34c-ef0a055c0ec5",
   "metadata": {
    "execution": {
     "iopub.execute_input": "2024-05-10T14:15:15.905641Z",
     "iopub.status.busy": "2024-05-10T14:15:15.904779Z",
     "iopub.status.idle": "2024-05-10T14:15:15.911140Z",
     "shell.execute_reply": "2024-05-10T14:15:15.910744Z",
     "shell.execute_reply.started": "2024-05-10T14:15:15.905558Z"
    }
   },
   "outputs": [
    {
     "data": {
      "text/plain": [
       "torch.Size([1000, 3])"
      ]
     },
     "execution_count": 5,
     "metadata": {},
     "output_type": "execute_result"
    }
   ],
   "source": [
    "data.shape"
   ]
  },
  {
   "cell_type": "code",
   "execution_count": 6,
   "id": "115f540a-8f04-49ea-9118-eb52ce3f0c9d",
   "metadata": {
    "execution": {
     "iopub.execute_input": "2024-05-10T14:15:16.626071Z",
     "iopub.status.busy": "2024-05-10T14:15:16.625287Z",
     "iopub.status.idle": "2024-05-10T14:15:16.631016Z",
     "shell.execute_reply": "2024-05-10T14:15:16.630496Z",
     "shell.execute_reply.started": "2024-05-10T14:15:16.626006Z"
    }
   },
   "outputs": [],
   "source": [
    "data_pd = pd.DataFrame(data.numpy())\n",
    "data_pd.columns = ['Sin', 'Cos','Tanh']"
   ]
  },
  {
   "cell_type": "code",
   "execution_count": 8,
   "id": "f049d442-f89e-4bea-bd0d-a1c9072a8bb0",
   "metadata": {
    "execution": {
     "iopub.execute_input": "2024-05-10T14:15:35.330006Z",
     "iopub.status.busy": "2024-05-10T14:15:35.329229Z",
     "iopub.status.idle": "2024-05-10T14:15:35.341417Z",
     "shell.execute_reply": "2024-05-10T14:15:35.338640Z",
     "shell.execute_reply.started": "2024-05-10T14:15:35.329939Z"
    }
   },
   "outputs": [],
   "source": [
    "data_pd.to_pickle('./Data/data.pkl')"
   ]
  },
  {
   "cell_type": "code",
   "execution_count": null,
   "id": "17076930-3361-4387-84a3-644fc0d8837a",
   "metadata": {},
   "outputs": [],
   "source": []
  }
 ],
 "metadata": {
  "kernelspec": {
   "display_name": "Python [conda env:kine]",
   "language": "python",
   "name": "conda-env-kine-py"
  },
  "language_info": {
   "codemirror_mode": {
    "name": "ipython",
    "version": 3
   },
   "file_extension": ".py",
   "mimetype": "text/x-python",
   "name": "python",
   "nbconvert_exporter": "python",
   "pygments_lexer": "ipython3",
   "version": "3.8.19"
  }
 },
 "nbformat": 4,
 "nbformat_minor": 5
}
