{
 "cells": [
  {
   "cell_type": "code",
   "execution_count": 2,
   "id": "52f566b0-a8fe-49f0-8bac-38b1334e09ca",
   "metadata": {
    "execution": {
     "iopub.execute_input": "2024-05-14T01:16:40.458818Z",
     "iopub.status.busy": "2024-05-14T01:16:40.458385Z",
     "iopub.status.idle": "2024-05-14T01:16:41.655763Z",
     "shell.execute_reply": "2024-05-14T01:16:41.655238Z",
     "shell.execute_reply.started": "2024-05-14T01:16:40.458798Z"
    }
   },
   "outputs": [],
   "source": [
    "import numpy as np\n",
    "import torch\n",
    "import pandas as pd"
   ]
  },
  {
   "cell_type": "code",
   "execution_count": 24,
   "id": "032b42fd-c37b-457a-a2bc-d1d51fd426c4",
   "metadata": {
    "execution": {
     "iopub.execute_input": "2024-05-14T01:57:01.026767Z",
     "iopub.status.busy": "2024-05-14T01:57:01.026038Z",
     "iopub.status.idle": "2024-05-14T01:57:01.030093Z",
     "shell.execute_reply": "2024-05-14T01:57:01.029746Z",
     "shell.execute_reply.started": "2024-05-14T01:57:01.026754Z"
    }
   },
   "outputs": [],
   "source": [
    "T=10003\n",
    "time = torch.arange(1,T+1,dtype=torch.float32)\n",
    "x_1 = torch.sin(0.01*time)+torch.normal(0,0.1,(T,))\n",
    "x_2 = torch.cos(0.01*time)*x_1+torch.normal(0,0.1,(T,))\n",
    "x_3 = torch.cos(0.01*time)+torch.normal(0,0.1,(T,))"
   ]
  },
  {
   "cell_type": "code",
   "execution_count": 25,
   "id": "ee2f0c44-93c9-4054-a9ce-d46ceb549e84",
   "metadata": {
    "execution": {
     "iopub.execute_input": "2024-05-14T01:57:01.418421Z",
     "iopub.status.busy": "2024-05-14T01:57:01.417691Z",
     "iopub.status.idle": "2024-05-14T01:57:01.424166Z",
     "shell.execute_reply": "2024-05-14T01:57:01.423865Z",
     "shell.execute_reply.started": "2024-05-14T01:57:01.418359Z"
    }
   },
   "outputs": [
    {
     "data": {
      "text/plain": [
       "torch.Size([10003, 1])"
      ]
     },
     "execution_count": 25,
     "metadata": {},
     "output_type": "execute_result"
    }
   ],
   "source": [
    "x_1.view(-1,1).shape"
   ]
  },
  {
   "cell_type": "code",
   "execution_count": 26,
   "id": "1c4cb3da-0e89-4660-aacd-6babe18b9c9a",
   "metadata": {
    "execution": {
     "iopub.execute_input": "2024-05-14T01:57:01.806851Z",
     "iopub.status.busy": "2024-05-14T01:57:01.806097Z",
     "iopub.status.idle": "2024-05-14T01:57:01.811933Z",
     "shell.execute_reply": "2024-05-14T01:57:01.811604Z",
     "shell.execute_reply.started": "2024-05-14T01:57:01.806789Z"
    }
   },
   "outputs": [],
   "source": [
    "data = torch.cat((x_1.view(-1,1),x_2.view(-1,1),x_3.view(-1,1)),dim=1)"
   ]
  },
  {
   "cell_type": "code",
   "execution_count": 27,
   "id": "d0d46a7b-8291-400b-a34c-ef0a055c0ec5",
   "metadata": {
    "execution": {
     "iopub.execute_input": "2024-05-14T01:57:02.984532Z",
     "iopub.status.busy": "2024-05-14T01:57:02.984316Z",
     "iopub.status.idle": "2024-05-14T01:57:02.988134Z",
     "shell.execute_reply": "2024-05-14T01:57:02.987595Z",
     "shell.execute_reply.started": "2024-05-14T01:57:02.984515Z"
    }
   },
   "outputs": [
    {
     "data": {
      "text/plain": [
       "torch.Size([10003, 3])"
      ]
     },
     "execution_count": 27,
     "metadata": {},
     "output_type": "execute_result"
    }
   ],
   "source": [
    "data.shape"
   ]
  },
  {
   "cell_type": "code",
   "execution_count": 28,
   "id": "115f540a-8f04-49ea-9118-eb52ce3f0c9d",
   "metadata": {
    "execution": {
     "iopub.execute_input": "2024-05-14T01:57:09.199908Z",
     "iopub.status.busy": "2024-05-14T01:57:09.199136Z",
     "iopub.status.idle": "2024-05-14T01:57:09.205038Z",
     "shell.execute_reply": "2024-05-14T01:57:09.204722Z",
     "shell.execute_reply.started": "2024-05-14T01:57:09.199845Z"
    }
   },
   "outputs": [],
   "source": [
    "data_pd = pd.DataFrame(data.numpy())\n",
    "data_pd.columns = ['Sin', 'Cos*Sin','Cos']"
   ]
  },
  {
   "cell_type": "code",
   "execution_count": 29,
   "id": "f049d442-f89e-4bea-bd0d-a1c9072a8bb0",
   "metadata": {
    "execution": {
     "iopub.execute_input": "2024-05-14T01:57:09.806917Z",
     "iopub.status.busy": "2024-05-14T01:57:09.806174Z",
     "iopub.status.idle": "2024-05-14T01:57:09.817347Z",
     "shell.execute_reply": "2024-05-14T01:57:09.815236Z",
     "shell.execute_reply.started": "2024-05-14T01:57:09.806854Z"
    }
   },
   "outputs": [],
   "source": [
    "data_pd.to_pickle('./data.pkl')"
   ]
  },
  {
   "cell_type": "code",
   "execution_count": 34,
   "id": "17076930-3361-4387-84a3-644fc0d8837a",
   "metadata": {
    "execution": {
     "iopub.execute_input": "2024-05-14T14:35:11.853214Z",
     "iopub.status.busy": "2024-05-14T14:35:11.852394Z",
     "iopub.status.idle": "2024-05-14T14:35:11.858911Z",
     "shell.execute_reply": "2024-05-14T14:35:11.858603Z",
     "shell.execute_reply.started": "2024-05-14T14:35:11.853149Z"
    }
   },
   "outputs": [
    {
     "data": {
      "text/plain": [
       "0.032"
      ]
     },
     "execution_count": 34,
     "metadata": {},
     "output_type": "execute_result"
    }
   ],
   "source": [
    "4/(5**3)"
   ]
  },
  {
   "cell_type": "code",
   "execution_count": 35,
   "id": "54a422b2-6561-49de-bab4-7de322ae3b4e",
   "metadata": {
    "execution": {
     "iopub.execute_input": "2024-05-14T14:35:19.925138Z",
     "iopub.status.busy": "2024-05-14T14:35:19.924337Z",
     "iopub.status.idle": "2024-05-14T14:35:19.930159Z",
     "shell.execute_reply": "2024-05-14T14:35:19.929755Z",
     "shell.execute_reply.started": "2024-05-14T14:35:19.925075Z"
    }
   },
   "outputs": [
    {
     "data": {
      "text/plain": [
       "0.032"
      ]
     },
     "execution_count": 35,
     "metadata": {},
     "output_type": "execute_result"
    }
   ],
   "source": [
    "4/5**3"
   ]
  },
  {
   "cell_type": "code",
   "execution_count": 43,
   "id": "98eb3a22-2d11-4f2c-8439-1d1b1fad86bd",
   "metadata": {
    "execution": {
     "iopub.execute_input": "2024-05-14T14:37:15.805569Z",
     "iopub.status.busy": "2024-05-14T14:37:15.804801Z",
     "iopub.status.idle": "2024-05-14T14:37:15.810491Z",
     "shell.execute_reply": "2024-05-14T14:37:15.810183Z",
     "shell.execute_reply.started": "2024-05-14T14:37:15.805507Z"
    }
   },
   "outputs": [
    {
     "data": {
      "text/plain": [
       "0.04"
      ]
     },
     "execution_count": 43,
     "metadata": {},
     "output_type": "execute_result"
    }
   ],
   "source": [
    "2/10**2*2"
   ]
  },
  {
   "cell_type": "code",
   "execution_count": 44,
   "id": "0f35e61f-16c2-41e5-98db-8392957a308b",
   "metadata": {
    "execution": {
     "iopub.execute_input": "2024-05-14T14:38:53.023187Z",
     "iopub.status.busy": "2024-05-14T14:38:53.023024Z",
     "iopub.status.idle": "2024-05-14T14:38:53.026104Z",
     "shell.execute_reply": "2024-05-14T14:38:53.025738Z",
     "shell.execute_reply.started": "2024-05-14T14:38:53.023173Z"
    }
   },
   "outputs": [
    {
     "data": {
      "text/plain": [
       "0.08"
      ]
     },
     "execution_count": 44,
     "metadata": {},
     "output_type": "execute_result"
    }
   ],
   "source": [
    "2*2/10**2*2"
   ]
  },
  {
   "cell_type": "code",
   "execution_count": 47,
   "id": "5d06bf51-2a02-446e-8d60-5a07a5b8dbf1",
   "metadata": {
    "execution": {
     "iopub.execute_input": "2024-05-14T14:42:14.341261Z",
     "iopub.status.busy": "2024-05-14T14:42:14.340436Z",
     "iopub.status.idle": "2024-05-14T14:42:14.346078Z",
     "shell.execute_reply": "2024-05-14T14:42:14.345703Z",
     "shell.execute_reply.started": "2024-05-14T14:42:14.341197Z"
    }
   },
   "outputs": [
    {
     "data": {
      "text/plain": [
       "0.125"
      ]
     },
     "execution_count": 47,
     "metadata": {},
     "output_type": "execute_result"
    }
   ],
   "source": [
    "1/(4*2)"
   ]
  },
  {
   "cell_type": "code",
   "execution_count": null,
   "id": "90619b57-95a6-4976-b835-93a192a1c9dc",
   "metadata": {},
   "outputs": [],
   "source": []
  }
 ],
 "metadata": {
  "kernelspec": {
   "display_name": "Python [conda env:kine] *",
   "language": "python",
   "name": "conda-env-kine-py"
  },
  "language_info": {
   "codemirror_mode": {
    "name": "ipython",
    "version": 3
   },
   "file_extension": ".py",
   "mimetype": "text/x-python",
   "name": "python",
   "nbconvert_exporter": "python",
   "pygments_lexer": "ipython3",
   "version": "3.8.19"
  }
 },
 "nbformat": 4,
 "nbformat_minor": 5
}
