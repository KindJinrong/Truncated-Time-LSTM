{
 "cells": [
  {
   "cell_type": "code",
   "execution_count": null,
   "id": "d63ba08c-b17b-4114-8b75-b8e3b17f080d",
   "metadata": {},
   "outputs": [],
   "source": [
    "import torch\n",
    "import torch.nn as nn\n",
    "\n",
    "# 定义LSTM模型\n",
    "class LSTMModel(nn.Module):\n",
    "    def __init__(self, input_size, hidden_size, output_size, num_layers=1, stateful=False):\n",
    "        super(LSTMModel, self).__init__()\n",
    "        self.hidden_size = hidden_size\n",
    "        self.num_layers = num_layers\n",
    "        self.stateful = stateful\n",
    "        self.lstm = nn.LSTM(input_size, hidden_size, num_layers, batch_first=True)\n",
    "        self.fc = nn.Linear(hidden_size, output_size)\n",
    "\n",
    "    def forward(self, x):\n",
    "        # 初始化隐藏状态\n",
    "        h0 = torch.zeros(self.num_layers, x.size(0), self.hidden_size).to(x.device)\n",
    "        c0 = torch.zeros(self.num_layers, x.size(0), self.hidden_size).to(x.device)\n",
    "\n",
    "        # 如果是stateful模式且有之前的隐藏状态，则使用之前的隐藏状态\n",
    "        if self.stateful and hasattr(self, 'hidden'):\n",
    "            h0, c0 = self.hidden\n",
    "\n",
    "        # LSTM前向传播\n",
    "        out, (hn, cn) = self.lstm(x, (h0, c0))\n",
    "\n",
    "        # 如果是stateful模式，则保存当前的隐藏状态\n",
    "        if self.stateful:\n",
    "            self.hidden = (hn.detach(), cn.detach())\n",
    "\n",
    "        # 输出层\n",
    "        out = self.fc(out[:, -1, :])\n",
    "        return out\n",
    "\n",
    "# 示例用法\n",
    "model = LSTMModel(input_size=10, hidden_size=64, output_size=1, num_layers=2, stateful=True)\n",
    "\n",
    "# 在训练循环中使用模型\n",
    "for epoch in range(num_epochs):\n",
    "    for batch_x, batch_y in train_loader:\n",
    "        optimizer.zero_grad()\n",
    "        outputs = model(batch_x)\n",
    "        loss = criterion(outputs, batch_y)\n",
    "        loss.backward()\n",
    "        optimizer.step()\n",
    "    # 在每个epoch结束时重置隐藏状态\n",
    "    model.hidden = None\n"
   ]
  },
  {
   "cell_type": "code",
   "execution_count": 14,
   "id": "beb60b45-6bc8-4885-a1e5-8a648a846549",
   "metadata": {
    "execution": {
     "iopub.execute_input": "2024-05-11T05:25:14.894259Z",
     "iopub.status.busy": "2024-05-11T05:25:14.893479Z",
     "iopub.status.idle": "2024-05-11T05:25:14.907677Z",
     "shell.execute_reply": "2024-05-11T05:25:14.907254Z",
     "shell.execute_reply.started": "2024-05-11T05:25:14.894196Z"
    }
   },
   "outputs": [
    {
     "data": {
      "text/plain": [
       "PackedSequence(data=tensor([1, 4, 6, 2, 5, 3]), batch_sizes=tensor([3, 2, 1]), sorted_indices=None, unsorted_indices=None)"
      ]
     },
     "execution_count": 14,
     "metadata": {},
     "output_type": "execute_result"
    }
   ],
   "source": [
    "from torch.nn.utils.rnn import pack_sequence\n",
    "a = torch.tensor([1, 2, 3])\n",
    "b = torch.tensor([4, 5])\n",
    "c = torch.tensor([6])\n",
    "pack_sequence([a, b, c])"
   ]
  },
  {
   "cell_type": "code",
   "execution_count": null,
   "id": "a48b5a37-8d0a-42d7-865f-c76cda2fe68f",
   "metadata": {},
   "outputs": [],
   "source": []
  }
 ],
 "metadata": {
  "kernelspec": {
   "display_name": "Python [conda env:kine]",
   "language": "python",
   "name": "conda-env-kine-py"
  },
  "language_info": {
   "codemirror_mode": {
    "name": "ipython",
    "version": 3
   },
   "file_extension": ".py",
   "mimetype": "text/x-python",
   "name": "python",
   "nbconvert_exporter": "python",
   "pygments_lexer": "ipython3",
   "version": "3.8.19"
  }
 },
 "nbformat": 4,
 "nbformat_minor": 5
}
