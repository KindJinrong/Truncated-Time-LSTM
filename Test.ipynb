{
 "cells": [
  {
   "cell_type": "code",
   "execution_count": 14,
   "id": "beb60b45-6bc8-4885-a1e5-8a648a846549",
   "metadata": {
    "execution": {
     "iopub.execute_input": "2024-05-11T05:25:14.894259Z",
     "iopub.status.busy": "2024-05-11T05:25:14.893479Z",
     "iopub.status.idle": "2024-05-11T05:25:14.907677Z",
     "shell.execute_reply": "2024-05-11T05:25:14.907254Z",
     "shell.execute_reply.started": "2024-05-11T05:25:14.894196Z"
    }
   },
   "outputs": [
    {
     "data": {
      "text/plain": [
       "PackedSequence(data=tensor([1, 4, 6, 2, 5, 3]), batch_sizes=tensor([3, 2, 1]), sorted_indices=None, unsorted_indices=None)"
      ]
     },
     "execution_count": 14,
     "metadata": {},
     "output_type": "execute_result"
    }
   ],
   "source": [
    "from torch.nn.utils.rnn import pack_sequence\n",
    "a = torch.tensor([1, 2, 3])\n",
    "b = torch.tensor([4, 5])\n",
    "c = torch.tensor([6])\n",
    "pack_sequence([a, b, c])"
   ]
  },
  {
   "cell_type": "code",
   "execution_count": 76,
   "id": "9a5ece70-cc5b-4e74-a0e9-5711f0245275",
   "metadata": {
    "execution": {
     "iopub.execute_input": "2024-05-14T14:20:48.996564Z",
     "iopub.status.busy": "2024-05-14T14:20:48.996369Z",
     "iopub.status.idle": "2024-05-14T14:20:49.166442Z",
     "shell.execute_reply": "2024-05-14T14:20:49.165976Z",
     "shell.execute_reply.started": "2024-05-14T14:20:48.996551Z"
    }
   },
   "outputs": [],
   "source": [
    "import torch\n",
    "import torch.nn as nn\n",
    "import numpy as np\n",
    "import pandas as pd\n",
    "import matplotlib.pyplot as plt\n",
    "import torch.optim as optim\n",
    "from torch.utils.data import DataLoader\n",
    "\n",
    "import help as hp\n",
    "from importlib import reload\n",
    "reload(hp)\n",
    "\n",
    "device = torch.device(\"cuda\" if torch.cuda.is_available() else \"cpu\")\n",
    "dtype= torch.float32"
   ]
  },
  {
   "cell_type": "code",
   "execution_count": 1,
   "id": "a48b5a37-8d0a-42d7-865f-c76cda2fe68f",
   "metadata": {
    "execution": {
     "iopub.execute_input": "2024-05-13T05:51:09.867624Z",
     "iopub.status.busy": "2024-05-13T05:51:09.867434Z",
     "iopub.status.idle": "2024-05-13T05:51:09.871942Z",
     "shell.execute_reply": "2024-05-13T05:51:09.871536Z",
     "shell.execute_reply.started": "2024-05-13T05:51:09.867612Z"
    }
   },
   "outputs": [],
   "source": [
    "(a,b) =(1,2)"
   ]
  },
  {
   "cell_type": "code",
   "execution_count": 4,
   "id": "993aeb79-175e-4f1b-8967-de122d1ab0c3",
   "metadata": {
    "execution": {
     "iopub.execute_input": "2024-05-13T05:51:18.735289Z",
     "iopub.status.busy": "2024-05-13T05:51:18.735088Z",
     "iopub.status.idle": "2024-05-13T05:51:18.737893Z",
     "shell.execute_reply": "2024-05-13T05:51:18.737582Z",
     "shell.execute_reply.started": "2024-05-13T05:51:18.735276Z"
    }
   },
   "outputs": [
    {
     "data": {
      "text/plain": [
       "2"
      ]
     },
     "execution_count": 4,
     "metadata": {},
     "output_type": "execute_result"
    }
   ],
   "source": [
    "b"
   ]
  },
  {
   "cell_type": "code",
   "execution_count": 14,
   "id": "195585ac-28da-42ec-b181-2f96a2887737",
   "metadata": {
    "execution": {
     "iopub.execute_input": "2024-05-13T06:57:02.857091Z",
     "iopub.status.busy": "2024-05-13T06:57:02.856296Z",
     "iopub.status.idle": "2024-05-13T06:57:02.886532Z",
     "shell.execute_reply": "2024-05-13T06:57:02.885999Z",
     "shell.execute_reply.started": "2024-05-13T06:57:02.857028Z"
    }
   },
   "outputs": [
    {
     "ename": "TypeError",
     "evalue": "only integer tensors of a single element can be converted to an index",
     "output_type": "error",
     "traceback": [
      "\u001b[0;31m---------------------------------------------------------------------------\u001b[0m",
      "\u001b[0;31mTypeError\u001b[0m                                 Traceback (most recent call last)",
      "Cell \u001b[0;32mIn[14], line 51\u001b[0m\n\u001b[1;32m     27\u001b[0m \u001b[38;5;66;03m# 示例用法\u001b[39;00m\n\u001b[1;32m     28\u001b[0m multivariate_time_series \u001b[38;5;241m=\u001b[39m [\n\u001b[1;32m     29\u001b[0m     [\u001b[38;5;241m10\u001b[39m, \u001b[38;5;241m20\u001b[39m, \u001b[38;5;241m30\u001b[39m, \u001b[38;5;241m40\u001b[39m, \u001b[38;5;241m50\u001b[39m, \u001b[38;5;241m60\u001b[39m],\n\u001b[1;32m     30\u001b[0m     [\u001b[38;5;241m11\u001b[39m, \u001b[38;5;241m21\u001b[39m, \u001b[38;5;241m31\u001b[39m, \u001b[38;5;241m41\u001b[39m, \u001b[38;5;241m51\u001b[39m, \u001b[38;5;241m61\u001b[39m],\n\u001b[0;32m   (...)\u001b[0m\n\u001b[1;32m     48\u001b[0m     [\u001b[38;5;241m29\u001b[39m, \u001b[38;5;241m39\u001b[39m, \u001b[38;5;241m49\u001b[39m, \u001b[38;5;241m59\u001b[39m, \u001b[38;5;241m69\u001b[39m, \u001b[38;5;241m79\u001b[39m]\n\u001b[1;32m     49\u001b[0m ]\n\u001b[0;32m---> 51\u001b[0m batches \u001b[38;5;241m=\u001b[39m \u001b[43mcreate_batches\u001b[49m\u001b[43m(\u001b[49m\u001b[43mmultivariate_time_series\u001b[49m\u001b[43m,\u001b[49m\u001b[43m \u001b[49m\u001b[43mbatch_size\u001b[49m\u001b[38;5;241;43m=\u001b[39;49m\u001b[38;5;241;43m4\u001b[39;49m\u001b[43m,\u001b[49m\u001b[43m \u001b[49m\u001b[43mseq_len\u001b[49m\u001b[38;5;241;43m=\u001b[39;49m\u001b[38;5;241;43m3\u001b[39;49m\u001b[43m)\u001b[49m\n\u001b[1;32m     53\u001b[0m \u001b[38;5;28;01mfor\u001b[39;00m batch \u001b[38;5;129;01min\u001b[39;00m batches:\n\u001b[1;32m     54\u001b[0m     \u001b[38;5;28mprint\u001b[39m(batch\u001b[38;5;241m.\u001b[39msize())\n",
      "Cell \u001b[0;32mIn[14], line 23\u001b[0m, in \u001b[0;36mcreate_batches\u001b[0;34m(data, batch_size, seq_len)\u001b[0m\n\u001b[1;32m     21\u001b[0m         start \u001b[38;5;241m=\u001b[39m idx\n\u001b[1;32m     22\u001b[0m         end \u001b[38;5;241m=\u001b[39m start \u001b[38;5;241m+\u001b[39m seq_len\n\u001b[0;32m---> 23\u001b[0m         batch\u001b[38;5;241m.\u001b[39mappend(\u001b[43mdata\u001b[49m\u001b[43m[\u001b[49m\u001b[43mstart\u001b[49m\u001b[43m:\u001b[49m\u001b[43mend\u001b[49m\u001b[43m]\u001b[49m)\n\u001b[1;32m     24\u001b[0m     batches\u001b[38;5;241m.\u001b[39mappend(torch\u001b[38;5;241m.\u001b[39mstack(batch))\n\u001b[1;32m     25\u001b[0m \u001b[38;5;28;01mreturn\u001b[39;00m batches\n",
      "\u001b[0;31mTypeError\u001b[0m: only integer tensors of a single element can be converted to an index"
     ]
    }
   ],
   "source": [
    "import torch\n",
    "from torch.utils.data import Dataset, DataLoader\n",
    "\n",
    "class MultivarTimeSeriesDataset(Dataset):\n",
    "    def __init__(self, data):\n",
    "        self.data = data\n",
    "\n",
    "    def __len__(self):\n",
    "        return len(self.data)\n",
    "\n",
    "    def __getitem__(self, idx):\n",
    "        return self.data[idx]\n",
    "\n",
    "def create_batches(data, batch_size, seq_len):\n",
    "    dataset = MultivarTimeSeriesDataset(data)\n",
    "    dataloader = DataLoader(dataset, batch_size=batch_size, shuffle=False)\n",
    "    batches = []\n",
    "    for batch_indices in dataloader:\n",
    "        batch = []\n",
    "        for idx in batch_indices:\n",
    "            start = idx\n",
    "            end = start + seq_len\n",
    "            batch.append(data[start:end])\n",
    "        batches.append(torch.stack(batch))\n",
    "    return batches\n",
    "\n",
    "# 示例用法\n",
    "multivariate_time_series = [\n",
    "    [10, 20, 30, 40, 50, 60],\n",
    "    [11, 21, 31, 41, 51, 61],\n",
    "    [12, 22, 32, 42, 52, 62],\n",
    "    [13, 23, 33, 43, 53, 63],\n",
    "    [14, 24, 34, 44, 54, 64],\n",
    "    [15, 25, 35, 45, 55, 65],\n",
    "    [16, 26, 36, 46, 56, 66],\n",
    "    [17, 27, 37, 47, 57, 67],\n",
    "    [18, 28, 38, 48, 58, 68],\n",
    "    [19, 29, 39, 49, 59, 69],\n",
    "    [20, 30, 40, 50, 60, 70],\n",
    "    [21, 31, 41, 51, 61, 71],\n",
    "    [22, 32, 42, 52, 62, 72],\n",
    "    [23, 33, 43, 53, 63, 73],\n",
    "    [24, 34, 44, 54, 64, 74],\n",
    "    [25, 35, 45, 55, 65, 75],\n",
    "    [26, 36, 46, 56, 66, 76],\n",
    "    [27, 37, 47, 57, 67, 77],\n",
    "    [28, 38, 48, 58, 68, 78],\n",
    "    [29, 39, 49, 59, 69, 79]\n",
    "]\n",
    "\n",
    "batches = create_batches(multivariate_time_series, batch_size=4, seq_len=3)\n",
    "\n",
    "for batch in batches:\n",
    "    print(batch.size())\n",
    "    print(batch)\n",
    "    print('---')"
   ]
  },
  {
   "cell_type": "code",
   "execution_count": 22,
   "id": "42ff1f2a-137f-427e-bb7c-39f768e1f169",
   "metadata": {
    "execution": {
     "iopub.execute_input": "2024-05-13T07:09:44.702053Z",
     "iopub.status.busy": "2024-05-13T07:09:44.701872Z",
     "iopub.status.idle": "2024-05-13T07:09:44.725939Z",
     "shell.execute_reply": "2024-05-13T07:09:44.725370Z",
     "shell.execute_reply.started": "2024-05-13T07:09:44.702039Z"
    }
   },
   "outputs": [
    {
     "ename": "AttributeError",
     "evalue": "'list' object has no attribute 'size'",
     "output_type": "error",
     "traceback": [
      "\u001b[0;31m---------------------------------------------------------------------------\u001b[0m",
      "\u001b[0;31mAttributeError\u001b[0m                            Traceback (most recent call last)",
      "Cell \u001b[0;32mIn[22], line 54\u001b[0m\n\u001b[1;32m     51\u001b[0m \u001b[38;5;66;03m# 遍历DataLoader获取批次数据\u001b[39;00m\n\u001b[1;32m     52\u001b[0m \u001b[38;5;28;01mfor\u001b[39;00m batch \u001b[38;5;129;01min\u001b[39;00m dataloader:\n\u001b[1;32m     53\u001b[0m     \u001b[38;5;66;03m# batch为(batch_size, seq_len, features)的张量\u001b[39;00m\n\u001b[0;32m---> 54\u001b[0m     \u001b[38;5;28mprint\u001b[39m(\u001b[43mbatch\u001b[49m\u001b[38;5;241;43m.\u001b[39;49m\u001b[43msize\u001b[49m())\n\u001b[1;32m     55\u001b[0m     \u001b[38;5;28mprint\u001b[39m(batch)\n\u001b[1;32m     56\u001b[0m     \u001b[38;5;66;03m# torch.Size([4, 4, 6])\u001b[39;00m\n",
      "\u001b[0;31mAttributeError\u001b[0m: 'list' object has no attribute 'size'"
     ]
    }
   ],
   "source": [
    "import torch\n",
    "from torch.utils.data import TensorDataset, DataLoader\n",
    "\n",
    "# 多元时间序列数据\n",
    "multivariate_time_series = [\n",
    "    [10, 20, 30, 40, 50, 60],\n",
    "    [11, 21, 31, 41, 51, 61],\n",
    "    [12, 22, 32, 42, 52, 62],\n",
    "    [13, 23, 33, 43, 53, 63],\n",
    "    [14, 24, 34, 44, 54, 64],\n",
    "    [15, 25, 35, 45, 55, 65],\n",
    "    [16, 26, 36, 46, 56, 66],\n",
    "    [17, 27, 37, 47, 57, 67],\n",
    "    [18, 28, 38, 48, 58, 68],\n",
    "    [19, 29, 39, 49, 59, 69],\n",
    "    [20, 30, 40, 50, 60, 70],\n",
    "    [21, 31, 41, 51, 61, 71],\n",
    "    [22, 32, 42, 52, 62, 72],\n",
    "    [23, 33, 43, 53, 63, 73],\n",
    "    [24, 34, 44, 54, 64, 74],\n",
    "    [25, 35, 45, 55, 65, 75],\n",
    "    [26, 36, 46, 56, 66, 76],\n",
    "    [27, 37, 47, 57, 67, 77],\n",
    "    [28, 38, 48, 58, 68, 78],\n",
    "    [29, 39, 49, 59, 69, 79]\n",
    "]\n",
    "\n",
    "# 将数据转换为Tensor\n",
    "data = torch.tensor(multivariate_time_series)\n",
    "\n",
    "# 设置序列长度和批次大小\n",
    "seq_len = 4\n",
    "batch_size = 4\n",
    "\n",
    "# 创建滑动窗口\n",
    "def create_inout_sequences(input_data, seq_len):\n",
    "    inout_seq = []\n",
    "    L = len(input_data)\n",
    "    for i in range(L-seq_len):\n",
    "        train_seq = input_data[i:i+seq_len]\n",
    "        inout_seq.append(train_seq)\n",
    "    return torch.stack(inout_seq)\n",
    "\n",
    "# 生成输入数据\n",
    "x = create_inout_sequences(data, seq_len)\n",
    "\n",
    "# 创建Dataset和DataLoader\n",
    "dataset = TensorDataset(x)\n",
    "dataloader = DataLoader(dataset, batch_size=batch_size, shuffle=False)\n",
    "\n",
    "# 遍历DataLoader获取批次数据\n",
    "for batch in dataloader:\n",
    "    # batch为(batch_size, seq_len, features)的张量\n",
    "    print(batch.size())\n",
    "    print(batch)\n",
    "    # torch.Size([4, 4, 6])\n",
    "    break"
   ]
  },
  {
   "cell_type": "code",
   "execution_count": 23,
   "id": "e95193fc-739e-44dc-8f8d-75087d28f43c",
   "metadata": {
    "execution": {
     "iopub.execute_input": "2024-05-14T01:39:12.835762Z",
     "iopub.status.busy": "2024-05-14T01:39:12.834973Z",
     "iopub.status.idle": "2024-05-14T01:39:13.401456Z",
     "shell.execute_reply": "2024-05-14T01:39:13.401002Z",
     "shell.execute_reply.started": "2024-05-14T01:39:12.835697Z"
    }
   },
   "outputs": [
    {
     "data": {
      "image/png": "[encoded data removed]",
      "text/plain": [
       "<Figure size 640x480 with 1 Axes>"
      ]
     },
     "metadata": {},
     "output_type": "display_data"
    },
    {
     "data": {
      "image/png": "[encoded data removed]",
      "text/plain": [
       "<Figure size 640x480 with 1 Axes>"
      ]
     },
     "metadata": {},
     "output_type": "display_data"
    },
    {
     "data": {
      "image/png": "[encoded data removed]",
      "text/plain": [
       "<Figure size 640x480 with 1 Axes>"
      ]
     },
     "metadata": {},
     "output_type": "display_data"
    }
   ],
   "source": [
    "import matplotlib.pyplot as plt\n",
    "import numpy as np\n",
    "\n",
    "# 假设你有三组数据\n",
    "x = np.linspace(0, 10, 100)\n",
    "y1 = np.sin(x)\n",
    "y2 = np.cos(x)\n",
    "y3 = np.tan(x)\n",
    "\n",
    "# 创建第一个图形窗口并绘制第一个折线图\n",
    "plt.figure(1)\n",
    "plt.plot(x, y1)\n",
    "plt.title('y = sin(x)')\n",
    "\n",
    "# 创建第二个图形窗口并绘制第二个折线图\n",
    "plt.figure(2)\n",
    "plt.plot(x, y2)\n",
    "plt.title('y = cos(x)')\n",
    "\n",
    "# 创建第三个图形窗口并绘制第三个折线图\n",
    "plt.figure(3)\n",
    "plt.plot(x, y3)\n",
    "plt.title('y = tan(x)')\n",
    "\n",
    "# 显示所有图形\n",
    "plt.show()\n"
   ]
  },
  {
   "cell_type": "code",
   "execution_count": 28,
   "id": "40035dc0-7f3a-42c0-b6b2-4ef653ea8de3",
   "metadata": {
    "execution": {
     "iopub.execute_input": "2024-05-14T04:04:43.838487Z",
     "iopub.status.busy": "2024-05-14T04:04:43.837724Z",
     "iopub.status.idle": "2024-05-14T04:04:43.847771Z",
     "shell.execute_reply": "2024-05-14T04:04:43.845329Z",
     "shell.execute_reply.started": "2024-05-14T04:04:43.838425Z"
    }
   },
   "outputs": [],
   "source": [
    "gene_index = np.empty(10)"
   ]
  },
  {
   "cell_type": "code",
   "execution_count": 29,
   "id": "c9fb5172-ecbb-41c8-8f9d-178ac19cc45d",
   "metadata": {
    "execution": {
     "iopub.execute_input": "2024-05-14T04:04:45.049300Z",
     "iopub.status.busy": "2024-05-14T04:04:45.048506Z",
     "iopub.status.idle": "2024-05-14T04:04:45.053460Z",
     "shell.execute_reply": "2024-05-14T04:04:45.053010Z",
     "shell.execute_reply.started": "2024-05-14T04:04:45.049236Z"
    }
   },
   "outputs": [
    {
     "data": {
      "text/plain": [
       "array([0., 0., 1., 0., 1., 1., 0., 1., 0., 0.])"
      ]
     },
     "execution_count": 29,
     "metadata": {},
     "output_type": "execute_result"
    }
   ],
   "source": [
    "gene_index"
   ]
  },
  {
   "cell_type": "code",
   "execution_count": 35,
   "id": "9d3d4ca5-df3c-4a36-b2ac-389f2022deea",
   "metadata": {
    "execution": {
     "iopub.execute_input": "2024-05-14T04:43:56.093880Z",
     "iopub.status.busy": "2024-05-14T04:43:56.093517Z",
     "iopub.status.idle": "2024-05-14T04:43:56.100845Z",
     "shell.execute_reply": "2024-05-14T04:43:56.099663Z",
     "shell.execute_reply.started": "2024-05-14T04:43:56.093851Z"
    }
   },
   "outputs": [
    {
     "data": {
      "text/plain": [
       "12"
      ]
     },
     "execution_count": 35,
     "metadata": {},
     "output_type": "execute_result"
    }
   ],
   "source": [
    "a = np.arange(12).reshape((4,3))\n",
    "a_empty =np.empty(12)\n",
    "\n",
    "(a_empty != None).sum()"
   ]
  },
  {
   "cell_type": "code",
   "execution_count": 41,
   "id": "898ce866-38e9-46c5-9b99-ad292f8762d7",
   "metadata": {
    "execution": {
     "iopub.execute_input": "2024-05-14T05:05:46.808014Z",
     "iopub.status.busy": "2024-05-14T05:05:46.806885Z",
     "iopub.status.idle": "2024-05-14T05:05:46.857532Z",
     "shell.execute_reply": "2024-05-14T05:05:46.856706Z",
     "shell.execute_reply.started": "2024-05-14T05:05:46.807914Z"
    }
   },
   "outputs": [
    {
     "name": "stdout",
     "output_type": "stream",
     "text": [
      "[[ 0  1  2  3]\n",
      " [ 4  5  6  7]\n",
      " [ 8  9 10 11]]\n"
     ]
    },
    {
     "ename": "TypeError",
     "evalue": "'numpy.ndarray' object is not callable",
     "output_type": "error",
     "traceback": [
      "\u001b[0;31m---------------------------------------------------------------------------\u001b[0m",
      "\u001b[0;31mTypeError\u001b[0m                                 Traceback (most recent call last)",
      "Cell \u001b[0;32mIn[41], line 4\u001b[0m\n\u001b[1;32m      2\u001b[0m \u001b[38;5;28mprint\u001b[39m(t2)\n\u001b[1;32m      3\u001b[0m sorted_indices \u001b[38;5;241m=\u001b[39mnp\u001b[38;5;241m.\u001b[39marray([\u001b[38;5;241m2\u001b[39m,\u001b[38;5;241m0\u001b[39m,\u001b[38;5;241m1\u001b[39m])\n\u001b[0;32m----> 4\u001b[0m \u001b[43mt2\u001b[49m\u001b[43m(\u001b[49m\u001b[43msorted_indices\u001b[49m\u001b[43m)\u001b[49m\n",
      "\u001b[0;31mTypeError\u001b[0m: 'numpy.ndarray' object is not callable"
     ]
    }
   ],
   "source": [
    "t2 = np.arange(12).reshape(3, 4)\n",
    "print(t2)\n",
    "sorted_indices =np.array([2,0,1])\n",
    "t2(sorted_indices)"
   ]
  },
  {
   "cell_type": "code",
   "execution_count": 31,
   "id": "9482b540-1bca-42e0-b935-14b1f5b98c3e",
   "metadata": {
    "execution": {
     "iopub.execute_input": "2024-05-14T04:31:16.464931Z",
     "iopub.status.busy": "2024-05-14T04:31:16.464124Z",
     "iopub.status.idle": "2024-05-14T04:31:16.469538Z",
     "shell.execute_reply": "2024-05-14T04:31:16.469122Z",
     "shell.execute_reply.started": "2024-05-14T04:31:16.464866Z"
    }
   },
   "outputs": [
    {
     "name": "stdout",
     "output_type": "stream",
     "text": [
      "0\n",
      "10\n",
      "20\n",
      "30\n",
      "40\n",
      "50\n",
      "60\n",
      "70\n",
      "80\n",
      "90\n"
     ]
    }
   ],
   "source": [
    "for i in range(0,99,10):\n",
    "    print(i)\n",
    "    "
   ]
  },
  {
   "cell_type": "code",
   "execution_count": 48,
   "id": "cba22d1b-b81c-47d0-8d58-2dabf4f48c35",
   "metadata": {
    "execution": {
     "iopub.execute_input": "2024-05-14T05:42:02.347135Z",
     "iopub.status.busy": "2024-05-14T05:42:02.346353Z",
     "iopub.status.idle": "2024-05-14T05:42:02.351494Z",
     "shell.execute_reply": "2024-05-14T05:42:02.351052Z",
     "shell.execute_reply.started": "2024-05-14T05:42:02.347071Z"
    }
   },
   "outputs": [],
   "source": [
    "a_empty =np.empty(12)"
   ]
  },
  {
   "cell_type": "code",
   "execution_count": 49,
   "id": "62fb8e51-1189-4ae7-8cc0-d7661c14afe2",
   "metadata": {
    "execution": {
     "iopub.execute_input": "2024-05-14T05:42:02.806480Z",
     "iopub.status.busy": "2024-05-14T05:42:02.805727Z",
     "iopub.status.idle": "2024-05-14T05:42:02.811459Z",
     "shell.execute_reply": "2024-05-14T05:42:02.811003Z",
     "shell.execute_reply.started": "2024-05-14T05:42:02.806417Z"
    }
   },
   "outputs": [],
   "source": [
    "a_empty[:3]= np.array([1,2,3]) "
   ]
  },
  {
   "cell_type": "code",
   "execution_count": 50,
   "id": "144aead5-e51b-4f77-889c-211915bffe03",
   "metadata": {
    "execution": {
     "iopub.execute_input": "2024-05-14T05:42:03.837259Z",
     "iopub.status.busy": "2024-05-14T05:42:03.836443Z",
     "iopub.status.idle": "2024-05-14T05:42:03.842292Z",
     "shell.execute_reply": "2024-05-14T05:42:03.841906Z",
     "shell.execute_reply.started": "2024-05-14T05:42:03.837193Z"
    }
   },
   "outputs": [
    {
     "data": {
      "text/plain": [
       "array([1.00000000e+000, 2.00000000e+000, 3.00000000e+000, 6.91458496e-310,\n",
       "       6.91475352e-310, 6.91458477e-310, 6.91458330e-310, 6.91458330e-310,\n",
       "       6.91458330e-310, 6.91458330e-310, 6.91458330e-310, 6.91458330e-310])"
      ]
     },
     "execution_count": 50,
     "metadata": {},
     "output_type": "execute_result"
    }
   ],
   "source": [
    "a_empty"
   ]
  },
  {
   "cell_type": "code",
   "execution_count": 51,
   "id": "f37d429a-57b9-447e-9b5e-77bf9537b65b",
   "metadata": {
    "execution": {
     "iopub.execute_input": "2024-05-14T05:42:05.412789Z",
     "iopub.status.busy": "2024-05-14T05:42:05.411982Z",
     "iopub.status.idle": "2024-05-14T05:42:05.417574Z",
     "shell.execute_reply": "2024-05-14T05:42:05.417130Z",
     "shell.execute_reply.started": "2024-05-14T05:42:05.412723Z"
    }
   },
   "outputs": [
    {
     "data": {
      "text/plain": [
       "0"
      ]
     },
     "execution_count": 51,
     "metadata": {},
     "output_type": "execute_result"
    }
   ],
   "source": [
    "empty_count = np.isnan(a_empty).sum()\n",
    "empty_count"
   ]
  },
  {
   "cell_type": "code",
   "execution_count": 63,
   "id": "f0d92845-fcc4-489e-a8e2-a4708435d0d2",
   "metadata": {
    "execution": {
     "iopub.execute_input": "2024-05-14T12:50:11.835127Z",
     "iopub.status.busy": "2024-05-14T12:50:11.834937Z",
     "iopub.status.idle": "2024-05-14T12:50:11.838550Z",
     "shell.execute_reply": "2024-05-14T12:50:11.838166Z",
     "shell.execute_reply.started": "2024-05-14T12:50:11.835115Z"
    }
   },
   "outputs": [
    {
     "data": {
      "text/plain": [
       "10"
      ]
     },
     "execution_count": 63,
     "metadata": {},
     "output_type": "execute_result"
    }
   ],
   "source": [
    "a=1*10\n",
    "b=2*10\n",
    "b-a"
   ]
  },
  {
   "cell_type": "code",
   "execution_count": 82,
   "id": "49bda945-a905-4d32-bbb7-e078e5d79193",
   "metadata": {
    "execution": {
     "iopub.execute_input": "2024-05-14T14:22:44.834533Z",
     "iopub.status.busy": "2024-05-14T14:22:44.833745Z",
     "iopub.status.idle": "2024-05-14T14:22:44.839501Z",
     "shell.execute_reply": "2024-05-14T14:22:44.839135Z",
     "shell.execute_reply.started": "2024-05-14T14:22:44.834467Z"
    }
   },
   "outputs": [],
   "source": [
    "t2 = np.arange(4,dtype=float)"
   ]
  },
  {
   "cell_type": "code",
   "execution_count": 83,
   "id": "4ed6d419-be5e-45cd-a20a-aff0dc20688d",
   "metadata": {
    "execution": {
     "iopub.execute_input": "2024-05-14T14:22:45.514306Z",
     "iopub.status.busy": "2024-05-14T14:22:45.514108Z",
     "iopub.status.idle": "2024-05-14T14:22:45.516700Z",
     "shell.execute_reply": "2024-05-14T14:22:45.516269Z",
     "shell.execute_reply.started": "2024-05-14T14:22:45.514292Z"
    }
   },
   "outputs": [],
   "source": [
    "t2_ones = np.ones(4)\n"
   ]
  },
  {
   "cell_type": "code",
   "execution_count": 89,
   "id": "f4b0b672-8e2b-40ec-8c84-42d348027a17",
   "metadata": {
    "execution": {
     "iopub.execute_input": "2024-05-14T14:24:20.158759Z",
     "iopub.status.busy": "2024-05-14T14:24:20.158003Z",
     "iopub.status.idle": "2024-05-14T14:24:20.163931Z",
     "shell.execute_reply": "2024-05-14T14:24:20.163612Z",
     "shell.execute_reply.started": "2024-05-14T14:24:20.158696Z"
    }
   },
   "outputs": [
    {
     "data": {
      "text/plain": [
       "(array([1., 1., 1., 1.]), array([0., 1., 2., 3.]))"
      ]
     },
     "execution_count": 89,
     "metadata": {},
     "output_type": "execute_result"
    }
   ],
   "source": [
    "t2_ones,t2"
   ]
  },
  {
   "cell_type": "code",
   "execution_count": null,
   "id": "e20ca2f1-564d-4064-9fe9-77349557cc5b",
   "metadata": {},
   "outputs": [],
   "source": [
    "t2_"
   ]
  },
  {
   "cell_type": "code",
   "execution_count": 74,
   "id": "4bf23c49-a29e-4372-bc23-2f7c670c7d0c",
   "metadata": {
    "execution": {
     "iopub.execute_input": "2024-05-14T13:34:36.911446Z",
     "iopub.status.busy": "2024-05-14T13:34:36.910647Z",
     "iopub.status.idle": "2024-05-14T13:34:36.917324Z",
     "shell.execute_reply": "2024-05-14T13:34:36.916965Z",
     "shell.execute_reply.started": "2024-05-14T13:34:36.911380Z"
    }
   },
   "outputs": [
    {
     "data": {
      "text/plain": [
       "tensor([[[ 0,  1,  2,  3],\n",
       "         [ 4,  5,  6,  7]],\n",
       "\n",
       "        [[ 8,  9, 10, 11],\n",
       "         [ 0,  1,  2,  3]],\n",
       "\n",
       "        [[ 4,  5,  6,  7],\n",
       "         [ 8,  9, 10, 11]]])"
      ]
     },
     "execution_count": 74,
     "metadata": {},
     "output_type": "execute_result"
    }
   ],
   "source": [
    "torch.tensor(t2).reshape((3,-1,4))"
   ]
  },
  {
   "cell_type": "code",
   "execution_count": 88,
   "id": "f26ecec1-8932-4bf3-b051-bc030500b3d6",
   "metadata": {
    "execution": {
     "iopub.execute_input": "2024-05-14T14:24:09.930210Z",
     "iopub.status.busy": "2024-05-14T14:24:09.929443Z",
     "iopub.status.idle": "2024-05-14T14:24:09.936434Z",
     "shell.execute_reply": "2024-05-14T14:24:09.936134Z",
     "shell.execute_reply.started": "2024-05-14T14:24:09.930145Z"
    }
   },
   "outputs": [
    {
     "data": {
      "text/plain": [
       "tensor(1.5000, dtype=torch.float64)"
      ]
     },
     "execution_count": 88,
     "metadata": {},
     "output_type": "execute_result"
    }
   ],
   "source": [
    "loss = nn.MSELoss()\n",
    "loss(torch.tensor(t2),torch.tensor(t2_ones))"
   ]
  },
  {
   "cell_type": "code",
   "execution_count": 90,
   "id": "7dcbbf9e-d65c-4129-93cc-4b85772adaf4",
   "metadata": {
    "execution": {
     "iopub.execute_input": "2024-05-14T14:28:36.807026Z",
     "iopub.status.busy": "2024-05-14T14:28:36.806274Z",
     "iopub.status.idle": "2024-05-14T14:28:36.820515Z",
     "shell.execute_reply": "2024-05-14T14:28:36.820101Z",
     "shell.execute_reply.started": "2024-05-14T14:28:36.806964Z"
    }
   },
   "outputs": [
    {
     "name": "stdout",
     "output_type": "stream",
     "text": [
      "tensor(8.1897)\n"
     ]
    }
   ],
   "source": [
    "x = torch.randn(3, 4, 5)\n",
    "f_norm = torch.norm(x, 'fro')\n",
    "print(f_norm)"
   ]
  },
  {
   "cell_type": "code",
   "execution_count": 91,
   "id": "79652737-6433-4a22-8c8c-2eba7ebad077",
   "metadata": {
    "execution": {
     "iopub.execute_input": "2024-05-14T14:43:38.889926Z",
     "iopub.status.busy": "2024-05-14T14:43:38.889174Z",
     "iopub.status.idle": "2024-05-14T14:43:38.902474Z",
     "shell.execute_reply": "2024-05-14T14:43:38.900268Z",
     "shell.execute_reply.started": "2024-05-14T14:43:38.889862Z"
    }
   },
   "outputs": [
    {
     "data": {
      "text/plain": [
       "2.4"
      ]
     },
     "execution_count": 91,
     "metadata": {},
     "output_type": "execute_result"
    }
   ],
   "source": [
    "3*4/5"
   ]
  },
  {
   "cell_type": "code",
   "execution_count": 92,
   "id": "ce882302-f8e0-41bc-a662-711037e3541d",
   "metadata": {
    "execution": {
     "iopub.execute_input": "2024-05-14T14:43:51.464313Z",
     "iopub.status.busy": "2024-05-14T14:43:51.463551Z",
     "iopub.status.idle": "2024-05-14T14:43:51.469183Z",
     "shell.execute_reply": "2024-05-14T14:43:51.468726Z",
     "shell.execute_reply.started": "2024-05-14T14:43:51.464250Z"
    }
   },
   "outputs": [
    {
     "data": {
      "text/plain": [
       "2.4"
      ]
     },
     "execution_count": 92,
     "metadata": {},
     "output_type": "execute_result"
    }
   ],
   "source": [
    "(3*4)/5"
   ]
  },
  {
   "cell_type": "code",
   "execution_count": null,
   "id": "da5905e7-7e3f-468d-b0a4-405c307eba31",
   "metadata": {},
   "outputs": [],
   "source": []
  }
 ],
 "metadata": {
  "kernelspec": {
   "display_name": "Python [conda env:kine] *",
   "language": "python",
   "name": "conda-env-kine-py"
  },
  "language_info": {
   "codemirror_mode": {
    "name": "ipython",
    "version": 3
   },
   "file_extension": ".py",
   "mimetype": "text/x-python",
   "name": "python",
   "nbconvert_exporter": "python",
   "pygments_lexer": "ipython3",
   "version": "3.8.19"
  }
 },
 "nbformat": 4,
 "nbformat_minor": 5
}
