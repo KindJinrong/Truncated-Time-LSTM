{
 "cells": [
  {
   "cell_type": "markdown",
   "id": "bdc07799-91ef-4d8d-ad47-d48ca6b8d0fa",
   "metadata": {},
   "source": [
    "# Lstm 时间序列"
   ]
  },
  {
   "cell_type": "code",
   "execution_count": 79,
   "id": "8c670c10-bab2-4432-a651-dadf042819a5",
   "metadata": {
    "editable": true,
    "execution": {
     "iopub.execute_input": "2024-05-11T06:13:13.417050Z",
     "iopub.status.busy": "2024-05-11T06:13:13.416845Z",
     "iopub.status.idle": "2024-05-11T06:13:13.419996Z",
     "shell.execute_reply": "2024-05-11T06:13:13.419670Z",
     "shell.execute_reply.started": "2024-05-11T06:13:13.417037Z"
    },
    "slideshow": {
     "slide_type": ""
    },
    "tags": []
   },
   "outputs": [],
   "source": [
    "import torch\n",
    "import torch.nn as nn\n",
    "import numpy as np\n",
    "import pandas as pd\n",
    "import matplotlib.pyplot as plt\n",
    "import torch.optim as optim\n",
    "from torch.utils.data import DataLoader\n",
    "\n",
    "from importlib import reload\n",
    "device = torch.device(\"cuda\" if torch.cuda.is_available() else \"cpu\")\n",
    "dtype= torch.float32"
   ]
  },
  {
   "cell_type": "code",
   "execution_count": 23,
   "id": "afe35de0-0ade-4521-9002-f7ecb0ec4560",
   "metadata": {
    "execution": {
     "iopub.execute_input": "2024-05-09T08:45:00.447036Z",
     "iopub.status.busy": "2024-05-09T08:45:00.446267Z",
     "iopub.status.idle": "2024-05-09T08:45:00.450686Z",
     "shell.execute_reply": "2024-05-09T08:45:00.450219Z",
     "shell.execute_reply.started": "2024-05-09T08:45:00.446969Z"
    }
   },
   "outputs": [
    {
     "name": "stdout",
     "output_type": "stream",
     "text": [
      "1.13.1\n",
      "True\n"
     ]
    }
   ],
   "source": [
    "%matplotlib widget\n",
    "print(torch.__version__)\n",
    "print(torch.cuda.is_available())"
   ]
  },
  {
   "cell_type": "markdown",
   "id": "01dd5090-5190-4fa1-98a6-97312451f527",
   "metadata": {},
   "source": [
    "## 数据读取&预处理"
   ]
  },
  {
   "cell_type": "code",
   "execution_count": null,
   "id": "e03fd7d5-d900-4bea-95a6-a99997bb4127",
   "metadata": {},
   "outputs": [],
   "source": [
    "数据需要分割为，bacth 每个bacth是时间序列例如：100个时间序列，分4个bacth，5-Time sequence，那么第一个\n",
    "bacth的 index  [[0,1,2,3,4],[25,26,27,28,29],[50,51,52,53,54],[75,76,77,78,79]] shape为[4,5,6] #6 为向量的维度"
   ]
  },
  {
   "cell_type": "code",
   "execution_count": 82,
   "id": "58c289ba-0b4d-4d97-806c-8da25b7af351",
   "metadata": {
    "execution": {
     "iopub.execute_input": "2024-05-11T06:14:15.896877Z",
     "iopub.status.busy": "2024-05-11T06:14:15.896174Z",
     "iopub.status.idle": "2024-05-11T06:14:15.911479Z",
     "shell.execute_reply": "2024-05-11T06:14:15.911144Z",
     "shell.execute_reply.started": "2024-05-11T06:14:15.896830Z"
    }
   },
   "outputs": [
    {
     "name": "stdout",
     "output_type": "stream",
     "text": [
      "torch.Size([100, 20, 6])\n"
     ]
    }
   ],
   "source": [
    "# 用作测试的随机生成数据，模型搭建阶段\n",
    "data = torch.randn(100, 20, 6).to(device)\n",
    "print(data.shape)\n",
    "data_loader = DataLoader(data,batch_size=10, shuffle =False)"
   ]
  },
  {
   "cell_type": "code",
   "execution_count": 84,
   "id": "4e00c850-a08f-4c17-a150-4587395bfcce",
   "metadata": {
    "execution": {
     "iopub.execute_input": "2024-05-11T06:15:29.145806Z",
     "iopub.status.busy": "2024-05-11T06:15:29.145034Z",
     "iopub.status.idle": "2024-05-11T06:15:29.153262Z",
     "shell.execute_reply": "2024-05-11T06:15:29.152849Z",
     "shell.execute_reply.started": "2024-05-11T06:15:29.145739Z"
    },
    "scrolled": true
   },
   "outputs": [
    {
     "name": "stdout",
     "output_type": "stream",
     "text": [
      "torch.Size([10, 20, 6])\n",
      "torch.Size([10, 20, 6])\n",
      "torch.Size([10, 20, 6])\n",
      "torch.Size([10, 20, 6])\n",
      "torch.Size([10, 20, 6])\n",
      "torch.Size([10, 20, 6])\n",
      "torch.Size([10, 20, 6])\n",
      "torch.Size([10, 20, 6])\n",
      "torch.Size([10, 20, 6])\n",
      "torch.Size([10, 20, 6])\n"
     ]
    }
   ],
   "source": [
    "for ite_data in data_loader:\n",
    "    print(ite_data.shape)"
   ]
  },
  {
   "cell_type": "markdown",
   "id": "331f98ab-5fab-41bf-9756-f7cae7fc6423",
   "metadata": {
    "execution": {
     "iopub.execute_input": "2024-05-10T14:12:03.622439Z",
     "iopub.status.busy": "2024-05-10T14:12:03.621671Z",
     "iopub.status.idle": "2024-05-10T14:12:03.627710Z",
     "shell.execute_reply": "2024-05-10T14:12:03.627366Z",
     "shell.execute_reply.started": "2024-05-10T14:12:03.622373Z"
    }
   },
   "source": [
    "## 模型搭建Trucated Time LSTM"
   ]
  },
  {
   "cell_type": "markdown",
   "id": "9f3d3da7-bd84-4d89-b39e-0fb46c39a4aa",
   "metadata": {},
   "source": [
    "\n",
    "$$\n",
    "p(x_1,x_2,\\cdots, x_T) = p(x_T | x_{T-1}, x_{T-2}\\cdots,x_1 )p(x_{T-1} |x_{T-2}, x_{T-2}\\cdots,x_1 )\\cdots p(x_1|x_0)\n",
    "$$"
   ]
  },
  {
   "cell_type": "raw",
   "id": "f571fd25-2ee4-49d1-a480-b618da0a3890",
   "metadata": {},
   "source": [
    "LSTMModel(\n",
    "  (lstm): LSTM(6, 64, num_layers=2, batch_first=True)\n",
    "  (fc): Sequential(\n",
    "    (0): Linear(in_features=64, out_features=64, bias=True)\n",
    "    (1): Sigmoid()\n",
    "    (2): Linear(in_features=64, out_features=6, bias=True)\n",
    "  )\n",
    ")"
   ]
  },
  {
   "cell_type": "markdown",
   "id": "1bd060a7-6f40-4ed8-9919-3f903047f739",
   "metadata": {
    "execution": {
     "iopub.execute_input": "2024-05-11T05:11:01.124794Z",
     "iopub.status.busy": "2024-05-11T05:11:01.124599Z",
     "iopub.status.idle": "2024-05-11T05:11:01.127072Z",
     "shell.execute_reply": "2024-05-11T05:11:01.126697Z",
     "shell.execute_reply.started": "2024-05-11T05:11:01.124781Z"
    }
   },
   "source": [
    "### Code"
   ]
  },
  {
   "cell_type": "code",
   "execution_count": 135,
   "id": "45299f62-4a86-40b2-ace0-4e0665e5d571",
   "metadata": {
    "execution": {
     "iopub.execute_input": "2024-05-11T06:35:45.216506Z",
     "iopub.status.busy": "2024-05-11T06:35:45.215696Z",
     "iopub.status.idle": "2024-05-11T06:35:45.222316Z",
     "shell.execute_reply": "2024-05-11T06:35:45.221998Z",
     "shell.execute_reply.started": "2024-05-11T06:35:45.216441Z"
    }
   },
   "outputs": [],
   "source": [
    "# 定义LSTM模型\n",
    "class LSTMModel(nn.Module):\n",
    "    def __init__(self, input_size, hidden_size, output_size, num_layers=1, stateful=False):\n",
    "        super(LSTMModel, self).__init__()\n",
    "        self.hidden_size = hidden_size\n",
    "        self.num_layers = num_layers\n",
    "        self.stateful = stateful\n",
    "        self.lstm = nn.LSTM(input_size, hidden_size, num_layers, batch_first=True)\n",
    "        self.fc = nn.Sequential(\n",
    "            nn.Linear(hidden_size, hidden_size),  # 输入层到隐藏层的线性变换\n",
    "            nn.Sigmoid(), \n",
    "            nn.Linear(hidden_size, output_size)  # 隐藏层到输出层的线性变换\n",
    "        )\n",
    "        \n",
    "    def forward(self, x):\n",
    "        h0 = torch.zeros(self.num_layers, x.size(0), self.hidden_size).to(x.device)\n",
    "        c0 = torch.zeros(self.num_layers, x.size(0), self.hidden_size).to(x.device)\n",
    "        out, (hn, cn) = self.lstm(x, (h0, c0))\n",
    "        out = self.fc(out)\n",
    "        return out\n"
   ]
  },
  {
   "cell_type": "code",
   "execution_count": 137,
   "id": "8e8a05f2-994b-4837-95a8-1e2fb37234e5",
   "metadata": {
    "execution": {
     "iopub.execute_input": "2024-05-11T06:35:58.900173Z",
     "iopub.status.busy": "2024-05-11T06:35:58.899861Z",
     "iopub.status.idle": "2024-05-11T06:35:58.908672Z",
     "shell.execute_reply": "2024-05-11T06:35:58.907529Z",
     "shell.execute_reply.started": "2024-05-11T06:35:58.900147Z"
    },
    "scrolled": true
   },
   "outputs": [
    {
     "name": "stdout",
     "output_type": "stream",
     "text": [
      "LSTMModel(\n",
      "  (lstm): LSTM(6, 64, num_layers=2, batch_first=True)\n",
      "  (fc): Sequential(\n",
      "    (0): Linear(in_features=64, out_features=64, bias=True)\n",
      "    (1): Sigmoid()\n",
      "    (2): Linear(in_features=64, out_features=6, bias=True)\n",
      "  )\n",
      ")\n"
     ]
    }
   ],
   "source": [
    "model = LSTMModel(input_size=6, hidden_size=64, output_size=6, num_layers=2, stateful=True).to(device)\n",
    "print(model)"
   ]
  },
  {
   "cell_type": "code",
   "execution_count": 138,
   "id": "854d4c8f-16a1-49e4-98e3-03000a04e883",
   "metadata": {
    "execution": {
     "iopub.execute_input": "2024-05-11T06:35:59.462406Z",
     "iopub.status.busy": "2024-05-11T06:35:59.461623Z",
     "iopub.status.idle": "2024-05-11T06:35:59.465478Z",
     "shell.execute_reply": "2024-05-11T06:35:59.464974Z",
     "shell.execute_reply.started": "2024-05-11T06:35:59.462340Z"
    }
   },
   "outputs": [],
   "source": [
    "# 定义损失函数\n",
    "criterion = nn.MSELoss()\n",
    "# 定义优化器\n",
    "optimizer = optim.Adam(model.parameters(), lr=0.001)"
   ]
  },
  {
   "cell_type": "code",
   "execution_count": 139,
   "id": "9a701407-fb8c-4cc5-b34d-13a7fc20d7b8",
   "metadata": {
    "execution": {
     "iopub.execute_input": "2024-05-11T06:35:59.864911Z",
     "iopub.status.busy": "2024-05-11T06:35:59.864140Z",
     "iopub.status.idle": "2024-05-11T06:36:00.043405Z",
     "shell.execute_reply": "2024-05-11T06:36:00.043021Z",
     "shell.execute_reply.started": "2024-05-11T06:35:59.864845Z"
    }
   },
   "outputs": [],
   "source": [
    "\n",
    "# 在训练循环中使用模型\n",
    "for epoch in range(10):\n",
    "    for ite_data in data_loader:\n",
    "        optimizer.zero_grad()\n",
    "        outputs = model(ite_data)\n",
    "        loss = criterion(outputs,ite_data)\n",
    "        loss.backward()\n",
    "        optimizer.step()\n",
    "    # 在每个epoch结束时重置隐藏状态\n",
    "    "
   ]
  },
  {
   "cell_type": "markdown",
   "id": "1783ca43-b4c7-409a-a037-1ae70e5db3bb",
   "metadata": {},
   "source": [
    "#### Trian"
   ]
  },
  {
   "cell_type": "markdown",
   "id": "e4f1699a-76c7-4894-b031-1be033e0a296",
   "metadata": {},
   "source": [
    "#### Test"
   ]
  },
  {
   "cell_type": "markdown",
   "id": "ec008320-71e0-4163-9248-d19864792d6f",
   "metadata": {
    "execution": {
     "iopub.execute_input": "2024-05-11T05:33:11.437735Z",
     "iopub.status.busy": "2024-05-11T05:33:11.436941Z",
     "iopub.status.idle": "2024-05-11T05:33:11.445954Z",
     "shell.execute_reply": "2024-05-11T05:33:11.443654Z",
     "shell.execute_reply.started": "2024-05-11T05:33:11.437664Z"
    }
   },
   "source": [
    "#### Plot"
   ]
  },
  {
   "cell_type": "markdown",
   "id": "a0ce19ff-6b0e-4f6c-80d3-c27bf807d9b0",
   "metadata": {
    "execution": {
     "iopub.execute_input": "2024-05-11T05:33:29.017072Z",
     "iopub.status.busy": "2024-05-11T05:33:29.016285Z",
     "iopub.status.idle": "2024-05-11T05:33:29.025894Z",
     "shell.execute_reply": "2024-05-11T05:33:29.023467Z",
     "shell.execute_reply.started": "2024-05-11T05:33:29.017002Z"
    }
   },
   "source": [
    "## Other"
   ]
  },
  {
   "cell_type": "code",
   "execution_count": 53,
   "id": "5b9ac5c6-f7bf-4e68-8fbb-f0e93b58e297",
   "metadata": {
    "execution": {
     "iopub.execute_input": "2024-05-11T05:12:14.893488Z",
     "iopub.status.busy": "2024-05-11T05:12:14.893370Z",
     "iopub.status.idle": "2024-05-11T05:12:14.899813Z",
     "shell.execute_reply": "2024-05-11T05:12:14.899454Z",
     "shell.execute_reply.started": "2024-05-11T05:12:14.893477Z"
    },
    "scrolled": true
   },
   "outputs": [
    {
     "name": "stdout",
     "output_type": "stream",
     "text": [
      "weight_ih_l0 torch.Size([256, 6])\n",
      "Parameter containing:\n",
      "tensor([[ 0.0190,  0.0466,  0.0939, -0.1031, -0.0823, -0.0815],\n",
      "        [-0.1227,  0.1120, -0.0202,  0.0612, -0.0999,  0.0019],\n",
      "        [ 0.0784, -0.0855, -0.0059, -0.1212, -0.1186,  0.0731],\n",
      "        ...,\n",
      "        [ 0.1211, -0.1246,  0.0883, -0.0198, -0.0063, -0.1188],\n",
      "        [ 0.0736, -0.0348, -0.0507, -0.0438, -0.0813, -0.0166],\n",
      "        [ 0.0602,  0.0599,  0.0517, -0.0870, -0.1011,  0.0219]],\n",
      "       requires_grad=True)\n",
      "weight_hh_l0 torch.Size([256, 64])\n",
      "Parameter containing:\n",
      "tensor([[ 0.0712,  0.0581, -0.0472,  ..., -0.0971,  0.0308, -0.0876],\n",
      "        [-0.0146, -0.0151, -0.0565,  ..., -0.0939, -0.0738, -0.1106],\n",
      "        [ 0.0443,  0.0448, -0.0205,  ...,  0.0342,  0.0542,  0.0120],\n",
      "        ...,\n",
      "        [-0.0541, -0.1113,  0.0172,  ..., -0.0155, -0.0938, -0.0826],\n",
      "        [ 0.0789,  0.0968,  0.0339,  ..., -0.0500, -0.1214,  0.0398],\n",
      "        [-0.0329,  0.0444,  0.0413,  ..., -0.1051, -0.0540,  0.0395]],\n",
      "       requires_grad=True)\n",
      "bias_ih_l0 torch.Size([256])\n",
      "bias_hh_l0 torch.Size([256])\n",
      "weight_ih_l1 torch.Size([256, 64])\n",
      "Parameter containing:\n",
      "tensor([[-0.0771, -0.0055,  0.0104,  ..., -0.1010, -0.0657,  0.0411],\n",
      "        [ 0.0134, -0.0887,  0.0087,  ..., -0.0458,  0.0294, -0.0505],\n",
      "        [-0.0772,  0.0561, -0.0569,  ..., -0.0265,  0.1243, -0.0943],\n",
      "        ...,\n",
      "        [ 0.0867, -0.1136,  0.0818,  ...,  0.0810, -0.1219,  0.0415],\n",
      "        [-0.0703, -0.0077, -0.1051,  ..., -0.0713, -0.0714, -0.0089],\n",
      "        [ 0.0214, -0.0176, -0.0677,  ..., -0.1250,  0.1025, -0.0777]],\n",
      "       requires_grad=True)\n",
      "weight_hh_l1 torch.Size([256, 64])\n",
      "Parameter containing:\n",
      "tensor([[-0.0966,  0.1072,  0.1029,  ...,  0.0766, -0.1232,  0.0350],\n",
      "        [ 0.0212,  0.0707, -0.1002,  ...,  0.1143,  0.0010, -0.0477],\n",
      "        [-0.0142,  0.0775, -0.0291,  ...,  0.0020,  0.0177,  0.0103],\n",
      "        ...,\n",
      "        [ 0.0115,  0.0887, -0.0582,  ...,  0.0420,  0.0956,  0.0090],\n",
      "        [-0.1100, -0.0486, -0.0408,  ...,  0.0872,  0.0672,  0.0933],\n",
      "        [-0.0684, -0.0661, -0.0278,  ..., -0.1092, -0.0641,  0.1127]],\n",
      "       requires_grad=True)\n",
      "bias_ih_l1 torch.Size([256])\n",
      "bias_hh_l1 torch.Size([256])\n"
     ]
    }
   ],
   "source": [
    "import torch\n",
    "import torch.nn as nn\n",
    "\n",
    "# 创建一个 LSTM 模型\n",
    "input_size = 6\n",
    "hidden_size = 64\n",
    "num_layers = 2\n",
    "\n",
    "lstm = nn.LSTM(input_size, hidden_size, num_layers)\n",
    "\n",
    "# 获取 LSTM 层的内部参数\n",
    "for name, param in lstm.named_parameters():\n",
    "    print(name, param.shape)  # 打印参数名称和形状\n",
    "    if 'weight' in name:\n",
    "        print(param)  "
   ]
  },
  {
   "cell_type": "code",
   "execution_count": null,
   "id": "862ce2c8-9131-4ac5-9789-7c14ff570085",
   "metadata": {},
   "outputs": [],
   "source": []
  },
  {
   "cell_type": "code",
   "execution_count": 54,
   "id": "8f67277d-01e4-4ef9-8a98-e4aa9989a7f6",
   "metadata": {
    "execution": {
     "iopub.execute_input": "2024-05-11T05:12:14.900683Z",
     "iopub.status.busy": "2024-05-11T05:12:14.900560Z",
     "iopub.status.idle": "2024-05-11T05:12:14.923451Z",
     "shell.execute_reply": "2024-05-11T05:12:14.923062Z",
     "shell.execute_reply.started": "2024-05-11T05:12:14.900671Z"
    }
   },
   "outputs": [
    {
     "data": {
      "application/vnd.jupyter.widget-view+json": {
       "model_id": "9e541119981a49998bcc2003f597207b",
       "version_major": 2,
       "version_minor": 0
      },
      "image/png": "[encoded data removed]",
      "text/html": [
       "\n",
       "            <div style=\"display: inline-block;\">\n",
       "                <div class=\"jupyter-widgets widget-label\" style=\"text-align: center;\">\n",
       "                    Figure 1\n",
       "                </div>\n",
       "                <img src='data:image/png;base64,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' width=640.0/>\n",
       "            </div>\n",
       "        "
      ],
      "text/plain": [
       "Canvas(toolbar=Toolbar(toolitems=[('Home', 'Reset original view', 'home', 'home'), ('Back', 'Back to previous …"
      ]
     },
     "metadata": {},
     "output_type": "display_data"
    }
   ],
   "source": [
    "\n",
    "x = [1, 2, 3, 4, 5]\n",
    "y = [2, 3, 5, 7, 11]\n",
    "plt.plot(x, y)\n",
    "plt.show()"
   ]
  },
  {
   "cell_type": "code",
   "execution_count": null,
   "id": "64af533b-86c7-438b-8d25-bc7f59739616",
   "metadata": {},
   "outputs": [],
   "source": [
    " 哎查处"
   ]
  }
 ],
 "metadata": {
  "kernelspec": {
   "display_name": "Python [conda env:kine]",
   "language": "python",
   "name": "conda-env-kine-py"
  },
  "language_info": {
   "codemirror_mode": {
    "name": "ipython",
    "version": 3
   },
   "file_extension": ".py",
   "mimetype": "text/x-python",
   "name": "python",
   "nbconvert_exporter": "python",
   "pygments_lexer": "ipython3",
   "version": "3.8.19"
  }
 },
 "nbformat": 4,
 "nbformat_minor": 5
}
