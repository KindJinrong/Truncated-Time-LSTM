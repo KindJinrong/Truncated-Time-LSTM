{
 "cells": [
  {
   "cell_type": "code",
   "execution_count": 1,
   "id": "8c670c10-bab2-4432-a651-dadf042819a5",
   "metadata": {
    "editable": true,
    "execution": {
     "iopub.execute_input": "2024-05-09T07:26:15.810780Z",
     "iopub.status.busy": "2024-05-09T07:26:15.810564Z",
     "iopub.status.idle": "2024-05-09T07:26:16.657063Z",
     "shell.execute_reply": "2024-05-09T07:26:16.656544Z",
     "shell.execute_reply.started": "2024-05-09T07:26:15.810762Z"
    },
    "slideshow": {
     "slide_type": ""
    },
    "tags": []
   },
   "outputs": [],
   "source": [
    "import torch\n"
   ]
  },
  {
   "cell_type": "code",
   "execution_count": null,
   "id": "afe35de0-0ade-4521-9002-f7ecb0ec4560",
   "metadata": {},
   "outputs": [],
   "source": []
  }
 ],
 "metadata": {
  "kernelspec": {
   "display_name": "Python [conda env:kine]",
   "language": "python",
   "name": "conda-env-kine-py"
  },
  "language_info": {
   "codemirror_mode": {
    "name": "ipython",
    "version": 3
   },
   "file_extension": ".py",
   "mimetype": "text/x-python",
   "name": "python",
   "nbconvert_exporter": "python",
   "pygments_lexer": "ipython3",
   "version": "3.8.19"
  }
 },
 "nbformat": 4,
 "nbformat_minor": 5
}
